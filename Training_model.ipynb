{
 "cells": [
  {
   "cell_type": "code",
   "execution_count": 5,
   "id": "5fc7f4a8-f956-477b-80a6-fb13cd690b21",
   "metadata": {},
   "outputs": [
    {
     "name": "stdout",
     "output_type": "stream",
     "text": [
      "dict_keys(['data', 'feature_names', 'target', 'target_names', 'frame', 'DESCR', 'data_filename', 'target_filename', 'data_module'])\n"
     ]
    }
   ],
   "source": [
    "from sklearn.datasets import load_linnerud\n",
    "\n",
    "# Load dataset\n",
    "data = load_linnerud()\n",
    "\n",
    "# Display keys\n",
    "print(data.keys())\n",
    "\n"
   ]
  },
  {
   "cell_type": "code",
   "execution_count": 6,
   "id": "f314c62f-b2b3-4b29-afda-cef072192d6b",
   "metadata": {},
   "outputs": [
    {
     "name": "stdout",
     "output_type": "stream",
     "text": [
      "Features (Exercise counts):\n",
      "   Chins  Situps  Jumps\n",
      "0    5.0   162.0   60.0\n",
      "1    2.0   110.0   60.0\n",
      "2   12.0   101.0  101.0\n",
      "3   12.0   105.0   37.0\n",
      "4   13.0   155.0   58.0\n",
      "\n",
      "Targets (Health stats):\n",
      "   Weight  Waist  Pulse\n",
      "0   191.0   36.0   50.0\n",
      "1   189.0   37.0   52.0\n",
      "2   193.0   38.0   58.0\n",
      "3   162.0   35.0   62.0\n",
      "4   189.0   35.0   46.0\n"
     ]
    }
   ],
   "source": [
    "import pandas as pd\n",
    "\n",
    "X = pd.DataFrame(data.data, columns=data.feature_names)\n",
    "y = pd.DataFrame(data.target, columns=data.target_names)\n",
    "\n",
    "print(\"Features (Exercise counts):\")\n",
    "print(X.head())\n",
    "\n",
    "print(\"\\nTargets (Health stats):\")\n",
    "print(y.head())\n"
   ]
  },
  {
   "cell_type": "code",
   "execution_count": 14,
   "id": "bb4372f6-7169-4435-acb0-8be084cc3abe",
   "metadata": {},
   "outputs": [
    {
     "name": "stdout",
     "output_type": "stream",
     "text": [
      "Linear Regression model saved as 'model.pkl'\n"
     ]
    }
   ],
   "source": [
    "# import Dependencies\n",
    "from sklearn.datasets import load_linnerud\n",
    "from sklearn.linear_model import LinearRegression\n",
    "from sklearn.model_selection import train_test_split\n",
    "import pandas as pd\n",
    "import joblib\n",
    "\n",
    "# Load the Linnerud dataset again\n",
    "data = load_linnerud()\n",
    "X = pd.DataFrame(data.data, columns=data.feature_names)\n",
    "y = pd.DataFrame(data.target, columns=data.target_names)\n",
    "\n",
    "# Split data into training and test sets\n",
    "X_train, X_test, y_train, y_test = train_test_split(X, y, test_size=0.2, random_state=42)\n",
    "\n",
    "# Train Linear Regression model\n",
    "model = LinearRegression()\n",
    "model.fit(X_train, y_train)\n",
    "\n",
    "# Save model to file\n",
    "joblib.dump(model, 'model.pkl')\n",
    "print(\"Linear Regression model saved as 'model.pkl'\")\n"
   ]
  },
  {
   "cell_type": "code",
   "execution_count": null,
   "id": "40b5c481-cb62-4def-a874-d62e27c8e34b",
   "metadata": {},
   "outputs": [],
   "source": []
  }
 ],
 "metadata": {
  "kernelspec": {
   "display_name": "Python 3 (ipykernel)",
   "language": "python",
   "name": "python3"
  },
  "language_info": {
   "codemirror_mode": {
    "name": "ipython",
    "version": 3
   },
   "file_extension": ".py",
   "mimetype": "text/x-python",
   "name": "python",
   "nbconvert_exporter": "python",
   "pygments_lexer": "ipython3",
   "version": "3.11.7"
  }
 },
 "nbformat": 4,
 "nbformat_minor": 5
}
